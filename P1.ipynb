{
  "nbformat": 4,
  "nbformat_minor": 0,
  "metadata": {
    "colab": {
      "provenance": [],
      "authorship_tag": "ABX9TyNVAjP+FSlftj/KjXQ/njJ1",
      "include_colab_link": true
    },
    "kernelspec": {
      "name": "python3",
      "display_name": "Python 3"
    },
    "language_info": {
      "name": "python"
    }
  },
  "cells": [
    {
      "cell_type": "markdown",
      "metadata": {
        "id": "view-in-github",
        "colab_type": "text"
      },
      "source": [
        "<a href=\"https://colab.research.google.com/github/Aadi-88-shah/Outfitrecommender/blob/main/P1.ipynb\" target=\"_parent\"><img src=\"https://colab.research.google.com/assets/colab-badge.svg\" alt=\"Open In Colab\"/></a>"
      ]
    },
    {
      "cell_type": "code",
      "execution_count": 2,
      "metadata": {
        "colab": {
          "base_uri": "https://localhost:8080/"
        },
        "id": "yNEGVYkdjxwd",
        "outputId": "1325fb16-4257-4061-a84f-7eedad85df03"
      },
      "outputs": [
        {
          "output_type": "stream",
          "name": "stdout",
          "text": [
            "Addition:\n",
            "[[ 6  8]\n",
            " [10 12]]\n",
            "\n",
            "Subtraction:\n",
            "[[-4 -4]\n",
            " [-4 -4]]\n",
            "\n",
            "Element-wise Multiplication:\n",
            "[[ 5 12]\n",
            " [21 32]]\n",
            "\n",
            "Matrix Multiplication (Dot product):\n",
            "[[19 22]\n",
            " [43 50]]\n",
            "\n",
            "Element-wise Division:\n"
          ]
        },
        {
          "output_type": "execute_result",
          "data": {
            "text/plain": [
              "array([[0.2       , 0.33333333],\n",
              "       [0.42857143, 0.5       ]])"
            ]
          },
          "metadata": {},
          "execution_count": 2
        }
      ],
      "source": [
        "# prompt: print addition subtraction multiplication and division of two matrices\n",
        "\n",
        "import numpy as np\n",
        "\n",
        "matrix1 = np.array([[1, 2], [3, 4]])\n",
        "matrix2 = np.array([[5, 6], [7, 8]])\n",
        "\n",
        "# Addition\n",
        "sum_matrix = matrix1 + matrix2\n",
        "print(\"Addition:\")\n",
        "print(sum_matrix)\n",
        "\n",
        "# Subtraction\n",
        "diff_matrix = matrix1 - matrix2\n",
        "print(\"\\nSubtraction:\")\n",
        "print(diff_matrix)\n",
        "\n",
        "# Multiplication (Element-wise)\n",
        "prod_matrix_elementwise = matrix1 * matrix2\n",
        "print(\"\\nElement-wise Multiplication:\")\n",
        "print(prod_matrix_elementwise)\n",
        "\n",
        "# Matrix Multiplication (Dot product)\n",
        "prod_matrix_dot = np.dot(matrix1, matrix2)\n",
        "print(\"\\nMatrix Multiplication (Dot product):\")\n",
        "print(prod_matrix_dot)\n",
        "\n",
        "# Division (Element-wise)\n",
        "# To avoid division by zero, we might need to handle cases where elements in matrix2 are zero.\n",
        "# For simplicity here, we assume no zero elements in matrix2.\n",
        "div_matrix = matrix1 / matrix2\n",
        "print(\"\\nElement-wise Division:\")\n",
        "div_matrix"
      ]
    },
    {
      "cell_type": "code",
      "source": [],
      "metadata": {
        "id": "ndyYb44rlJfx"
      },
      "execution_count": null,
      "outputs": []
    }
  ]
}